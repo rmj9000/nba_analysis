{
  "cells": [
    {
      "cell_type": "markdown",
      "metadata": {
        "id": "0aStgWSO0E0E"
      },
      "source": [
        "# **NBA Anaysis: Extract, Transform, Load**"
      ]
    },
    {
      "cell_type": "markdown",
      "metadata": {
        "id": "1eLEkw5O0ECa"
      },
      "source": [
        "## Objectives\n",
        "\n",
        "* Load data set from Kaggle: \n",
        "https://www.kaggle.com/datasets/dbtjdals/nba-mvp-candidates-1980-2022?select=master_table.csv\n",
        "\n",
        "There are 2 files, one for partial data for 2022, and a larger file with data from 1980-2021, the file that will be used: master_table.csv\n",
        "\n",
        "\n",
        "\n",
        "## Inputs\n",
        "\n",
        "* Files used: \n",
        "master_table.csv\n",
        "\n",
        "\n",
        "## Outputs\n",
        "\n",
        "* File produced:\n",
        "nba-data-1980plus.csv \n",
        "\n",
        "## Additional Comments\n",
        "\n",
        "* This dataset contains essential information about the wins, losses, typical basketball statistics (points per game, blocks per game, rebounds per game, etc), as well as more advanced statistics (Player Efficiency Rating, Box Plus Minus, Value Over Replacement Player, etc) per each MVP candidate.\n",
        "\n",
        "* Note: there was another data set with over 37,000 rows, which may have been too large for the scope of this analysis but may be useful to expand and look at trends, eg. how many 3 pointers have been taken per year, which has dramatically increased since the addition of the 3 point line in 1980, with the most 3 pointers taken by a team just 10 years ago being lower than the number of 3 point shots taken by the team that takes the lowest number of 3 point shots these days.\n",
        "* Note: only require data from 1980 onwards\n",
        "\n",
        "\n"
      ]
    },
    {
      "cell_type": "markdown",
      "metadata": {
        "id": "9uWZXH9LwoQg"
      },
      "source": [
        "---"
      ]
    },
    {
      "cell_type": "markdown",
      "metadata": {
        "id": "-mavJ8DibrcQ"
      },
      "source": [
        "# Section 1"
      ]
    },
    {
      "cell_type": "markdown",
      "metadata": {},
      "source": [
        "#Import necessary libraries"
      ]
    },
    {
      "cell_type": "code",
      "execution_count": 2,
      "metadata": {},
      "outputs": [],
      "source": [
        "import pandas as pd"
      ]
    },
    {
      "cell_type": "markdown",
      "metadata": {},
      "source": [
        "# Load CSV file"
      ]
    },
    {
      "cell_type": "code",
      "execution_count": 3,
      "metadata": {},
      "outputs": [],
      "source": [
        "df1 = pd.read_csv('../data/inputs/raw/master_table.csv')"
      ]
    },
    {
      "cell_type": "markdown",
      "metadata": {},
      "source": [
        "# Look at data"
      ]
    },
    {
      "cell_type": "code",
      "execution_count": 4,
      "metadata": {},
      "outputs": [
        {
          "data": {
            "text/html": [
              "<div>\n",
              "<style scoped>\n",
              "    .dataframe tbody tr th:only-of-type {\n",
              "        vertical-align: middle;\n",
              "    }\n",
              "\n",
              "    .dataframe tbody tr th {\n",
              "        vertical-align: top;\n",
              "    }\n",
              "\n",
              "    .dataframe thead th {\n",
              "        text-align: right;\n",
              "    }\n",
              "</style>\n",
              "<table border=\"1\" class=\"dataframe\">\n",
              "  <thead>\n",
              "    <tr style=\"text-align: right;\">\n",
              "      <th></th>\n",
              "      <th>Rank</th>\n",
              "      <th>Player</th>\n",
              "      <th>Age</th>\n",
              "      <th>Tm</th>\n",
              "      <th>First</th>\n",
              "      <th>Pts Won</th>\n",
              "      <th>Pts Max</th>\n",
              "      <th>Share</th>\n",
              "      <th>G</th>\n",
              "      <th>MP</th>\n",
              "      <th>...</th>\n",
              "      <th>turnover_percentage</th>\n",
              "      <th>usage_percentage</th>\n",
              "      <th>offensive_win_shares</th>\n",
              "      <th>defensive_win_shares</th>\n",
              "      <th>win_shares</th>\n",
              "      <th>win_shares_per_48_minutes</th>\n",
              "      <th>offensive_box_plus_minus</th>\n",
              "      <th>defensive_box_plus_minus</th>\n",
              "      <th>box_plus_minus</th>\n",
              "      <th>value_over_replacement_player</th>\n",
              "    </tr>\n",
              "  </thead>\n",
              "  <tbody>\n",
              "    <tr>\n",
              "      <th>0</th>\n",
              "      <td>1</td>\n",
              "      <td>Kareem Abdul-Jabbar</td>\n",
              "      <td>32</td>\n",
              "      <td>LAL</td>\n",
              "      <td>147.0</td>\n",
              "      <td>147.0</td>\n",
              "      <td>221</td>\n",
              "      <td>0.665</td>\n",
              "      <td>82</td>\n",
              "      <td>38.3</td>\n",
              "      <td>...</td>\n",
              "      <td>15.7</td>\n",
              "      <td>24.1</td>\n",
              "      <td>9.5</td>\n",
              "      <td>5.3</td>\n",
              "      <td>14.8</td>\n",
              "      <td>0.227</td>\n",
              "      <td>4.8</td>\n",
              "      <td>2.4</td>\n",
              "      <td>7.2</td>\n",
              "      <td>7.3</td>\n",
              "    </tr>\n",
              "    <tr>\n",
              "      <th>1</th>\n",
              "      <td>2</td>\n",
              "      <td>Julius Erving</td>\n",
              "      <td>29</td>\n",
              "      <td>PHI</td>\n",
              "      <td>31.5</td>\n",
              "      <td>31.5</td>\n",
              "      <td>221</td>\n",
              "      <td>0.143</td>\n",
              "      <td>78</td>\n",
              "      <td>36.1</td>\n",
              "      <td>...</td>\n",
              "      <td>13.3</td>\n",
              "      <td>30.3</td>\n",
              "      <td>7.3</td>\n",
              "      <td>5.2</td>\n",
              "      <td>12.5</td>\n",
              "      <td>0.213</td>\n",
              "      <td>5.7</td>\n",
              "      <td>1.9</td>\n",
              "      <td>7.6</td>\n",
              "      <td>6.8</td>\n",
              "    </tr>\n",
              "    <tr>\n",
              "      <th>2</th>\n",
              "      <td>3</td>\n",
              "      <td>George Gervin</td>\n",
              "      <td>27</td>\n",
              "      <td>SAS</td>\n",
              "      <td>19.0</td>\n",
              "      <td>19.0</td>\n",
              "      <td>221</td>\n",
              "      <td>0.086</td>\n",
              "      <td>78</td>\n",
              "      <td>37.6</td>\n",
              "      <td>...</td>\n",
              "      <td>10.3</td>\n",
              "      <td>31.7</td>\n",
              "      <td>9.3</td>\n",
              "      <td>1.3</td>\n",
              "      <td>10.6</td>\n",
              "      <td>0.173</td>\n",
              "      <td>5.5</td>\n",
              "      <td>-1.6</td>\n",
              "      <td>3.9</td>\n",
              "      <td>4.4</td>\n",
              "    </tr>\n",
              "    <tr>\n",
              "      <th>3</th>\n",
              "      <td>4</td>\n",
              "      <td>Larry Bird</td>\n",
              "      <td>23</td>\n",
              "      <td>BOS</td>\n",
              "      <td>15.0</td>\n",
              "      <td>15.0</td>\n",
              "      <td>221</td>\n",
              "      <td>0.068</td>\n",
              "      <td>82</td>\n",
              "      <td>36.0</td>\n",
              "      <td>...</td>\n",
              "      <td>14.0</td>\n",
              "      <td>25.3</td>\n",
              "      <td>5.6</td>\n",
              "      <td>5.6</td>\n",
              "      <td>11.2</td>\n",
              "      <td>0.182</td>\n",
              "      <td>3.0</td>\n",
              "      <td>1.5</td>\n",
              "      <td>4.5</td>\n",
              "      <td>4.8</td>\n",
              "    </tr>\n",
              "    <tr>\n",
              "      <th>4</th>\n",
              "      <td>5T</td>\n",
              "      <td>Tiny Archibald</td>\n",
              "      <td>31</td>\n",
              "      <td>BOS</td>\n",
              "      <td>2.0</td>\n",
              "      <td>2.0</td>\n",
              "      <td>221</td>\n",
              "      <td>0.009</td>\n",
              "      <td>80</td>\n",
              "      <td>35.8</td>\n",
              "      <td>...</td>\n",
              "      <td>19.7</td>\n",
              "      <td>17.0</td>\n",
              "      <td>5.9</td>\n",
              "      <td>2.9</td>\n",
              "      <td>8.9</td>\n",
              "      <td>0.148</td>\n",
              "      <td>1.4</td>\n",
              "      <td>-0.3</td>\n",
              "      <td>1.1</td>\n",
              "      <td>2.3</td>\n",
              "    </tr>\n",
              "  </tbody>\n",
              "</table>\n",
              "<p>5 rows × 45 columns</p>\n",
              "</div>"
            ],
            "text/plain": [
              "  Rank               Player  Age   Tm  First  Pts Won  Pts Max  Share   G  \\\n",
              "0    1  Kareem Abdul-Jabbar   32  LAL  147.0    147.0      221  0.665  82   \n",
              "1    2        Julius Erving   29  PHI   31.5     31.5      221  0.143  78   \n",
              "2    3        George Gervin   27  SAS   19.0     19.0      221  0.086  78   \n",
              "3    4           Larry Bird   23  BOS   15.0     15.0      221  0.068  82   \n",
              "4   5T       Tiny Archibald   31  BOS    2.0      2.0      221  0.009  80   \n",
              "\n",
              "     MP  ...  turnover_percentage  usage_percentage  offensive_win_shares  \\\n",
              "0  38.3  ...                 15.7              24.1                   9.5   \n",
              "1  36.1  ...                 13.3              30.3                   7.3   \n",
              "2  37.6  ...                 10.3              31.7                   9.3   \n",
              "3  36.0  ...                 14.0              25.3                   5.6   \n",
              "4  35.8  ...                 19.7              17.0                   5.9   \n",
              "\n",
              "   defensive_win_shares  win_shares  win_shares_per_48_minutes  \\\n",
              "0                   5.3        14.8                      0.227   \n",
              "1                   5.2        12.5                      0.213   \n",
              "2                   1.3        10.6                      0.173   \n",
              "3                   5.6        11.2                      0.182   \n",
              "4                   2.9         8.9                      0.148   \n",
              "\n",
              "   offensive_box_plus_minus  defensive_box_plus_minus  box_plus_minus  \\\n",
              "0                       4.8                       2.4             7.2   \n",
              "1                       5.7                       1.9             7.6   \n",
              "2                       5.5                      -1.6             3.9   \n",
              "3                       3.0                       1.5             4.5   \n",
              "4                       1.4                      -0.3             1.1   \n",
              "\n",
              "   value_over_replacement_player  \n",
              "0                            7.3  \n",
              "1                            6.8  \n",
              "2                            4.4  \n",
              "3                            4.8  \n",
              "4                            2.3  \n",
              "\n",
              "[5 rows x 45 columns]"
            ]
          },
          "execution_count": 4,
          "metadata": {},
          "output_type": "execute_result"
        }
      ],
      "source": [
        "df1.head()\n"
      ]
    },
    {
      "cell_type": "markdown",
      "metadata": {},
      "source": [
        "# Look at shape"
      ]
    },
    {
      "cell_type": "code",
      "execution_count": 5,
      "metadata": {},
      "outputs": [
        {
          "data": {
            "text/plain": [
              "(679, 45)"
            ]
          },
          "execution_count": 5,
          "metadata": {},
          "output_type": "execute_result"
        }
      ],
      "source": [
        "df1.shape"
      ]
    },
    {
      "cell_type": "markdown",
      "metadata": {},
      "source": [
        "# We can see there are 679 rows and 45 columns, 1 for each MVP candidate per year."
      ]
    },
    {
      "cell_type": "markdown",
      "metadata": {},
      "source": [
        "# Check data types"
      ]
    },
    {
      "cell_type": "code",
      "execution_count": 6,
      "metadata": {},
      "outputs": [
        {
          "name": "stdout",
          "output_type": "stream",
          "text": [
            "<class 'pandas.core.frame.DataFrame'>\n",
            "RangeIndex: 679 entries, 0 to 678\n",
            "Data columns (total 45 columns):\n",
            " #   Column                         Non-Null Count  Dtype  \n",
            "---  ------                         --------------  -----  \n",
            " 0   Rank                           679 non-null    object \n",
            " 1   Player                         679 non-null    object \n",
            " 2   Age                            679 non-null    int64  \n",
            " 3   Tm                             679 non-null    object \n",
            " 4   First                          679 non-null    float64\n",
            " 5   Pts Won                        679 non-null    float64\n",
            " 6   Pts Max                        679 non-null    int64  \n",
            " 7   Share                          679 non-null    float64\n",
            " 8   G                              679 non-null    int64  \n",
            " 9   MP                             679 non-null    float64\n",
            " 10  PTS                            679 non-null    float64\n",
            " 11  TRB                            679 non-null    float64\n",
            " 12  AST                            679 non-null    float64\n",
            " 13  STL                            679 non-null    float64\n",
            " 14  BLK                            679 non-null    float64\n",
            " 15  FG%                            679 non-null    float64\n",
            " 16  3P%                            679 non-null    float64\n",
            " 17  FT%                            679 non-null    float64\n",
            " 18  WS                             679 non-null    float64\n",
            " 19  WS/48                          679 non-null    float64\n",
            " 20  year                           679 non-null    int64  \n",
            " 21  team                           679 non-null    object \n",
            " 22  W                              679 non-null    float64\n",
            " 23  W/L%                           679 non-null    float64\n",
            " 24  seed                           679 non-null    float64\n",
            " 25  player_efficiency_rating       679 non-null    float64\n",
            " 26  true_shooting_percentage       679 non-null    float64\n",
            " 27  three_point_attempt_rate       679 non-null    float64\n",
            " 28  free_throw_attempt_rate        679 non-null    float64\n",
            " 29  offensive_rebound_percentage   679 non-null    float64\n",
            " 30  defensive_rebound_percentage   679 non-null    float64\n",
            " 31  total_rebound_percentage       679 non-null    float64\n",
            " 32  assist_percentage              679 non-null    float64\n",
            " 33  steal_percentage               679 non-null    float64\n",
            " 34  block_percentage               679 non-null    float64\n",
            " 35  turnover_percentage            679 non-null    float64\n",
            " 36  usage_percentage               679 non-null    float64\n",
            " 37  offensive_win_shares           679 non-null    float64\n",
            " 38  defensive_win_shares           679 non-null    float64\n",
            " 39  win_shares                     679 non-null    float64\n",
            " 40  win_shares_per_48_minutes      679 non-null    float64\n",
            " 41  offensive_box_plus_minus       679 non-null    float64\n",
            " 42  defensive_box_plus_minus       679 non-null    float64\n",
            " 43  box_plus_minus                 679 non-null    float64\n",
            " 44  value_over_replacement_player  679 non-null    float64\n",
            "dtypes: float64(37), int64(4), object(4)\n",
            "memory usage: 238.8+ KB\n"
          ]
        }
      ],
      "source": [
        "df1.info()"
      ]
    },
    {
      "cell_type": "markdown",
      "metadata": {},
      "source": [
        "# Check null values"
      ]
    },
    {
      "cell_type": "code",
      "execution_count": 7,
      "metadata": {},
      "outputs": [
        {
          "data": {
            "text/plain": [
              "Rank                             0\n",
              "Player                           0\n",
              "Age                              0\n",
              "Tm                               0\n",
              "First                            0\n",
              "Pts Won                          0\n",
              "Pts Max                          0\n",
              "Share                            0\n",
              "G                                0\n",
              "MP                               0\n",
              "PTS                              0\n",
              "TRB                              0\n",
              "AST                              0\n",
              "STL                              0\n",
              "BLK                              0\n",
              "FG%                              0\n",
              "3P%                              0\n",
              "FT%                              0\n",
              "WS                               0\n",
              "WS/48                            0\n",
              "year                             0\n",
              "team                             0\n",
              "W                                0\n",
              "W/L%                             0\n",
              "seed                             0\n",
              "player_efficiency_rating         0\n",
              "true_shooting_percentage         0\n",
              "three_point_attempt_rate         0\n",
              "free_throw_attempt_rate          0\n",
              "offensive_rebound_percentage     0\n",
              "defensive_rebound_percentage     0\n",
              "total_rebound_percentage         0\n",
              "assist_percentage                0\n",
              "steal_percentage                 0\n",
              "block_percentage                 0\n",
              "turnover_percentage              0\n",
              "usage_percentage                 0\n",
              "offensive_win_shares             0\n",
              "defensive_win_shares             0\n",
              "win_shares                       0\n",
              "win_shares_per_48_minutes        0\n",
              "offensive_box_plus_minus         0\n",
              "defensive_box_plus_minus         0\n",
              "box_plus_minus                   0\n",
              "value_over_replacement_player    0\n",
              "dtype: int64"
            ]
          },
          "execution_count": 7,
          "metadata": {},
          "output_type": "execute_result"
        }
      ],
      "source": [
        "df1.isnull().sum()"
      ]
    },
    {
      "cell_type": "markdown",
      "metadata": {},
      "source": [
        "# Check for duplicates"
      ]
    },
    {
      "cell_type": "code",
      "execution_count": 14,
      "metadata": {},
      "outputs": [
        {
          "data": {
            "text/plain": [
              "0"
            ]
          },
          "execution_count": 14,
          "metadata": {},
          "output_type": "execute_result"
        }
      ],
      "source": [
        "df1.duplicated().sum()"
      ]
    },
    {
      "cell_type": "markdown",
      "metadata": {},
      "source": [
        "# Only data from 1980-2018 onwards is being used, so anything outside this range needs to be removed. The data set begins from 1980 so we need to filter from 2018 and less.\n",
        "# Filter rows where the year is 2018 or before"
      ]
    },
    {
      "cell_type": "code",
      "execution_count": 15,
      "metadata": {},
      "outputs": [],
      "source": [
        "filtered_df = df1[df1['year'] <= 2018]\n"
      ]
    },
    {
      "cell_type": "markdown",
      "metadata": {},
      "source": [
        "# Check new data frame\n"
      ]
    },
    {
      "cell_type": "code",
      "execution_count": 16,
      "metadata": {},
      "outputs": [
        {
          "data": {
            "text/html": [
              "<div>\n",
              "<style scoped>\n",
              "    .dataframe tbody tr th:only-of-type {\n",
              "        vertical-align: middle;\n",
              "    }\n",
              "\n",
              "    .dataframe tbody tr th {\n",
              "        vertical-align: top;\n",
              "    }\n",
              "\n",
              "    .dataframe thead th {\n",
              "        text-align: right;\n",
              "    }\n",
              "</style>\n",
              "<table border=\"1\" class=\"dataframe\">\n",
              "  <thead>\n",
              "    <tr style=\"text-align: right;\">\n",
              "      <th></th>\n",
              "      <th>Rank</th>\n",
              "      <th>Player</th>\n",
              "      <th>Age</th>\n",
              "      <th>Tm</th>\n",
              "      <th>First</th>\n",
              "      <th>Pts Won</th>\n",
              "      <th>Pts Max</th>\n",
              "      <th>Share</th>\n",
              "      <th>G</th>\n",
              "      <th>MP</th>\n",
              "      <th>...</th>\n",
              "      <th>turnover_percentage</th>\n",
              "      <th>usage_percentage</th>\n",
              "      <th>offensive_win_shares</th>\n",
              "      <th>defensive_win_shares</th>\n",
              "      <th>win_shares</th>\n",
              "      <th>win_shares_per_48_minutes</th>\n",
              "      <th>offensive_box_plus_minus</th>\n",
              "      <th>defensive_box_plus_minus</th>\n",
              "      <th>box_plus_minus</th>\n",
              "      <th>value_over_replacement_player</th>\n",
              "    </tr>\n",
              "  </thead>\n",
              "  <tbody>\n",
              "    <tr>\n",
              "      <th>0</th>\n",
              "      <td>1</td>\n",
              "      <td>Kareem Abdul-Jabbar</td>\n",
              "      <td>32</td>\n",
              "      <td>LAL</td>\n",
              "      <td>147.0</td>\n",
              "      <td>147.0</td>\n",
              "      <td>221</td>\n",
              "      <td>0.665</td>\n",
              "      <td>82</td>\n",
              "      <td>38.3</td>\n",
              "      <td>...</td>\n",
              "      <td>15.7</td>\n",
              "      <td>24.1</td>\n",
              "      <td>9.5</td>\n",
              "      <td>5.3</td>\n",
              "      <td>14.8</td>\n",
              "      <td>0.227</td>\n",
              "      <td>4.8</td>\n",
              "      <td>2.4</td>\n",
              "      <td>7.2</td>\n",
              "      <td>7.3</td>\n",
              "    </tr>\n",
              "    <tr>\n",
              "      <th>1</th>\n",
              "      <td>2</td>\n",
              "      <td>Julius Erving</td>\n",
              "      <td>29</td>\n",
              "      <td>PHI</td>\n",
              "      <td>31.5</td>\n",
              "      <td>31.5</td>\n",
              "      <td>221</td>\n",
              "      <td>0.143</td>\n",
              "      <td>78</td>\n",
              "      <td>36.1</td>\n",
              "      <td>...</td>\n",
              "      <td>13.3</td>\n",
              "      <td>30.3</td>\n",
              "      <td>7.3</td>\n",
              "      <td>5.2</td>\n",
              "      <td>12.5</td>\n",
              "      <td>0.213</td>\n",
              "      <td>5.7</td>\n",
              "      <td>1.9</td>\n",
              "      <td>7.6</td>\n",
              "      <td>6.8</td>\n",
              "    </tr>\n",
              "    <tr>\n",
              "      <th>2</th>\n",
              "      <td>3</td>\n",
              "      <td>George Gervin</td>\n",
              "      <td>27</td>\n",
              "      <td>SAS</td>\n",
              "      <td>19.0</td>\n",
              "      <td>19.0</td>\n",
              "      <td>221</td>\n",
              "      <td>0.086</td>\n",
              "      <td>78</td>\n",
              "      <td>37.6</td>\n",
              "      <td>...</td>\n",
              "      <td>10.3</td>\n",
              "      <td>31.7</td>\n",
              "      <td>9.3</td>\n",
              "      <td>1.3</td>\n",
              "      <td>10.6</td>\n",
              "      <td>0.173</td>\n",
              "      <td>5.5</td>\n",
              "      <td>-1.6</td>\n",
              "      <td>3.9</td>\n",
              "      <td>4.4</td>\n",
              "    </tr>\n",
              "    <tr>\n",
              "      <th>3</th>\n",
              "      <td>4</td>\n",
              "      <td>Larry Bird</td>\n",
              "      <td>23</td>\n",
              "      <td>BOS</td>\n",
              "      <td>15.0</td>\n",
              "      <td>15.0</td>\n",
              "      <td>221</td>\n",
              "      <td>0.068</td>\n",
              "      <td>82</td>\n",
              "      <td>36.0</td>\n",
              "      <td>...</td>\n",
              "      <td>14.0</td>\n",
              "      <td>25.3</td>\n",
              "      <td>5.6</td>\n",
              "      <td>5.6</td>\n",
              "      <td>11.2</td>\n",
              "      <td>0.182</td>\n",
              "      <td>3.0</td>\n",
              "      <td>1.5</td>\n",
              "      <td>4.5</td>\n",
              "      <td>4.8</td>\n",
              "    </tr>\n",
              "    <tr>\n",
              "      <th>4</th>\n",
              "      <td>5T</td>\n",
              "      <td>Tiny Archibald</td>\n",
              "      <td>31</td>\n",
              "      <td>BOS</td>\n",
              "      <td>2.0</td>\n",
              "      <td>2.0</td>\n",
              "      <td>221</td>\n",
              "      <td>0.009</td>\n",
              "      <td>80</td>\n",
              "      <td>35.8</td>\n",
              "      <td>...</td>\n",
              "      <td>19.7</td>\n",
              "      <td>17.0</td>\n",
              "      <td>5.9</td>\n",
              "      <td>2.9</td>\n",
              "      <td>8.9</td>\n",
              "      <td>0.148</td>\n",
              "      <td>1.4</td>\n",
              "      <td>-0.3</td>\n",
              "      <td>1.1</td>\n",
              "      <td>2.3</td>\n",
              "    </tr>\n",
              "  </tbody>\n",
              "</table>\n",
              "<p>5 rows × 45 columns</p>\n",
              "</div>"
            ],
            "text/plain": [
              "  Rank               Player  Age   Tm  First  Pts Won  Pts Max  Share   G  \\\n",
              "0    1  Kareem Abdul-Jabbar   32  LAL  147.0    147.0      221  0.665  82   \n",
              "1    2        Julius Erving   29  PHI   31.5     31.5      221  0.143  78   \n",
              "2    3        George Gervin   27  SAS   19.0     19.0      221  0.086  78   \n",
              "3    4           Larry Bird   23  BOS   15.0     15.0      221  0.068  82   \n",
              "4   5T       Tiny Archibald   31  BOS    2.0      2.0      221  0.009  80   \n",
              "\n",
              "     MP  ...  turnover_percentage  usage_percentage  offensive_win_shares  \\\n",
              "0  38.3  ...                 15.7              24.1                   9.5   \n",
              "1  36.1  ...                 13.3              30.3                   7.3   \n",
              "2  37.6  ...                 10.3              31.7                   9.3   \n",
              "3  36.0  ...                 14.0              25.3                   5.6   \n",
              "4  35.8  ...                 19.7              17.0                   5.9   \n",
              "\n",
              "   defensive_win_shares  win_shares  win_shares_per_48_minutes  \\\n",
              "0                   5.3        14.8                      0.227   \n",
              "1                   5.2        12.5                      0.213   \n",
              "2                   1.3        10.6                      0.173   \n",
              "3                   5.6        11.2                      0.182   \n",
              "4                   2.9         8.9                      0.148   \n",
              "\n",
              "   offensive_box_plus_minus  defensive_box_plus_minus  box_plus_minus  \\\n",
              "0                       4.8                       2.4             7.2   \n",
              "1                       5.7                       1.9             7.6   \n",
              "2                       5.5                      -1.6             3.9   \n",
              "3                       3.0                       1.5             4.5   \n",
              "4                       1.4                      -0.3             1.1   \n",
              "\n",
              "   value_over_replacement_player  \n",
              "0                            7.3  \n",
              "1                            6.8  \n",
              "2                            4.4  \n",
              "3                            4.8  \n",
              "4                            2.3  \n",
              "\n",
              "[5 rows x 45 columns]"
            ]
          },
          "execution_count": 16,
          "metadata": {},
          "output_type": "execute_result"
        }
      ],
      "source": [
        "filtered_df.head()"
      ]
    },
    {
      "cell_type": "markdown",
      "metadata": {},
      "source": [
        "# It can be seen here that names are in one field which may be a potential problem later when linking to other data. Change the filtered data separating out the first name and last name and first initial. "
      ]
    },
    {
      "cell_type": "code",
      "execution_count": 17,
      "metadata": {},
      "outputs": [
        {
          "name": "stdout",
          "output_type": "stream",
          "text": [
            "                  Player First_Name      Name       Surname\n",
            "0    Kareem Abdul-Jabbar         K.    Kareem  Abdul-Jabbar\n",
            "1          Julius Erving         J.    Julius        Erving\n",
            "2          George Gervin         G.    George        Gervin\n",
            "3             Larry Bird         L.     Larry          Bird\n",
            "4         Tiny Archibald         T.      Tiny     Archibald\n",
            "..                   ...        ...       ...           ...\n",
            "637    LaMarcus Aldridge         L.  LaMarcus      Aldridge\n",
            "638         Jimmy Butler         J.     Jimmy        Butler\n",
            "639        Stephen Curry         S.   Stephen         Curry\n",
            "640          Joel Embiid         J.      Joel        Embiid\n",
            "641       Victor Oladipo         V.    Victor       Oladipo\n",
            "\n",
            "[642 rows x 4 columns]\n"
          ]
        },
        {
          "name": "stderr",
          "output_type": "stream",
          "text": [
            "C:\\Users\\ronni\\AppData\\Local\\Temp\\ipykernel_39036\\3731656790.py:2: SettingWithCopyWarning: \n",
            "A value is trying to be set on a copy of a slice from a DataFrame.\n",
            "Try using .loc[row_indexer,col_indexer] = value instead\n",
            "\n",
            "See the caveats in the documentation: https://pandas.pydata.org/pandas-docs/stable/user_guide/indexing.html#returning-a-view-versus-a-copy\n",
            "  filtered_df[['Name', 'Surname']] = filtered_df['Player'].str.split(' ', n=1, expand=True)\n",
            "C:\\Users\\ronni\\AppData\\Local\\Temp\\ipykernel_39036\\3731656790.py:2: SettingWithCopyWarning: \n",
            "A value is trying to be set on a copy of a slice from a DataFrame.\n",
            "Try using .loc[row_indexer,col_indexer] = value instead\n",
            "\n",
            "See the caveats in the documentation: https://pandas.pydata.org/pandas-docs/stable/user_guide/indexing.html#returning-a-view-versus-a-copy\n",
            "  filtered_df[['Name', 'Surname']] = filtered_df['Player'].str.split(' ', n=1, expand=True)\n",
            "C:\\Users\\ronni\\AppData\\Local\\Temp\\ipykernel_39036\\3731656790.py:5: SettingWithCopyWarning: \n",
            "A value is trying to be set on a copy of a slice from a DataFrame.\n",
            "Try using .loc[row_indexer,col_indexer] = value instead\n",
            "\n",
            "See the caveats in the documentation: https://pandas.pydata.org/pandas-docs/stable/user_guide/indexing.html#returning-a-view-versus-a-copy\n",
            "  filtered_df['First_Name'] = filtered_df['Player'].str[0] + '.'\n"
          ]
        }
      ],
      "source": [
        "# Split into Name and Surname\n",
        "filtered_df[['Name', 'Surname']] = filtered_df['Player'].str.split(' ', n=1, expand=True)\n",
        "\n",
        "# Create First_Name (first letter of full name + '.')\n",
        "filtered_df['First_Name'] = filtered_df['Player'].str[0] + '.'\n",
        "\n",
        "# Reorder columns into a new data frame to see the results\n",
        "new_df = filtered_df[['Player', 'First_Name', 'Name', 'Surname']]\n",
        "\n",
        "# View result\n",
        "print(new_df)"
      ]
    },
    {
      "cell_type": "markdown",
      "metadata": {},
      "source": [
        "# Check the giltered data frame to make sure all required data is there"
      ]
    },
    {
      "cell_type": "code",
      "execution_count": 18,
      "metadata": {},
      "outputs": [
        {
          "data": {
            "text/html": [
              "<div>\n",
              "<style scoped>\n",
              "    .dataframe tbody tr th:only-of-type {\n",
              "        vertical-align: middle;\n",
              "    }\n",
              "\n",
              "    .dataframe tbody tr th {\n",
              "        vertical-align: top;\n",
              "    }\n",
              "\n",
              "    .dataframe thead th {\n",
              "        text-align: right;\n",
              "    }\n",
              "</style>\n",
              "<table border=\"1\" class=\"dataframe\">\n",
              "  <thead>\n",
              "    <tr style=\"text-align: right;\">\n",
              "      <th></th>\n",
              "      <th>Rank</th>\n",
              "      <th>Player</th>\n",
              "      <th>Age</th>\n",
              "      <th>Tm</th>\n",
              "      <th>First</th>\n",
              "      <th>Pts Won</th>\n",
              "      <th>Pts Max</th>\n",
              "      <th>Share</th>\n",
              "      <th>G</th>\n",
              "      <th>MP</th>\n",
              "      <th>...</th>\n",
              "      <th>defensive_win_shares</th>\n",
              "      <th>win_shares</th>\n",
              "      <th>win_shares_per_48_minutes</th>\n",
              "      <th>offensive_box_plus_minus</th>\n",
              "      <th>defensive_box_plus_minus</th>\n",
              "      <th>box_plus_minus</th>\n",
              "      <th>value_over_replacement_player</th>\n",
              "      <th>Name</th>\n",
              "      <th>Surname</th>\n",
              "      <th>First_Name</th>\n",
              "    </tr>\n",
              "  </thead>\n",
              "  <tbody>\n",
              "    <tr>\n",
              "      <th>0</th>\n",
              "      <td>1</td>\n",
              "      <td>Kareem Abdul-Jabbar</td>\n",
              "      <td>32</td>\n",
              "      <td>LAL</td>\n",
              "      <td>147.0</td>\n",
              "      <td>147.0</td>\n",
              "      <td>221</td>\n",
              "      <td>0.665</td>\n",
              "      <td>82</td>\n",
              "      <td>38.3</td>\n",
              "      <td>...</td>\n",
              "      <td>5.3</td>\n",
              "      <td>14.8</td>\n",
              "      <td>0.227</td>\n",
              "      <td>4.8</td>\n",
              "      <td>2.4</td>\n",
              "      <td>7.2</td>\n",
              "      <td>7.3</td>\n",
              "      <td>Kareem</td>\n",
              "      <td>Abdul-Jabbar</td>\n",
              "      <td>K.</td>\n",
              "    </tr>\n",
              "    <tr>\n",
              "      <th>1</th>\n",
              "      <td>2</td>\n",
              "      <td>Julius Erving</td>\n",
              "      <td>29</td>\n",
              "      <td>PHI</td>\n",
              "      <td>31.5</td>\n",
              "      <td>31.5</td>\n",
              "      <td>221</td>\n",
              "      <td>0.143</td>\n",
              "      <td>78</td>\n",
              "      <td>36.1</td>\n",
              "      <td>...</td>\n",
              "      <td>5.2</td>\n",
              "      <td>12.5</td>\n",
              "      <td>0.213</td>\n",
              "      <td>5.7</td>\n",
              "      <td>1.9</td>\n",
              "      <td>7.6</td>\n",
              "      <td>6.8</td>\n",
              "      <td>Julius</td>\n",
              "      <td>Erving</td>\n",
              "      <td>J.</td>\n",
              "    </tr>\n",
              "    <tr>\n",
              "      <th>2</th>\n",
              "      <td>3</td>\n",
              "      <td>George Gervin</td>\n",
              "      <td>27</td>\n",
              "      <td>SAS</td>\n",
              "      <td>19.0</td>\n",
              "      <td>19.0</td>\n",
              "      <td>221</td>\n",
              "      <td>0.086</td>\n",
              "      <td>78</td>\n",
              "      <td>37.6</td>\n",
              "      <td>...</td>\n",
              "      <td>1.3</td>\n",
              "      <td>10.6</td>\n",
              "      <td>0.173</td>\n",
              "      <td>5.5</td>\n",
              "      <td>-1.6</td>\n",
              "      <td>3.9</td>\n",
              "      <td>4.4</td>\n",
              "      <td>George</td>\n",
              "      <td>Gervin</td>\n",
              "      <td>G.</td>\n",
              "    </tr>\n",
              "    <tr>\n",
              "      <th>3</th>\n",
              "      <td>4</td>\n",
              "      <td>Larry Bird</td>\n",
              "      <td>23</td>\n",
              "      <td>BOS</td>\n",
              "      <td>15.0</td>\n",
              "      <td>15.0</td>\n",
              "      <td>221</td>\n",
              "      <td>0.068</td>\n",
              "      <td>82</td>\n",
              "      <td>36.0</td>\n",
              "      <td>...</td>\n",
              "      <td>5.6</td>\n",
              "      <td>11.2</td>\n",
              "      <td>0.182</td>\n",
              "      <td>3.0</td>\n",
              "      <td>1.5</td>\n",
              "      <td>4.5</td>\n",
              "      <td>4.8</td>\n",
              "      <td>Larry</td>\n",
              "      <td>Bird</td>\n",
              "      <td>L.</td>\n",
              "    </tr>\n",
              "    <tr>\n",
              "      <th>4</th>\n",
              "      <td>5T</td>\n",
              "      <td>Tiny Archibald</td>\n",
              "      <td>31</td>\n",
              "      <td>BOS</td>\n",
              "      <td>2.0</td>\n",
              "      <td>2.0</td>\n",
              "      <td>221</td>\n",
              "      <td>0.009</td>\n",
              "      <td>80</td>\n",
              "      <td>35.8</td>\n",
              "      <td>...</td>\n",
              "      <td>2.9</td>\n",
              "      <td>8.9</td>\n",
              "      <td>0.148</td>\n",
              "      <td>1.4</td>\n",
              "      <td>-0.3</td>\n",
              "      <td>1.1</td>\n",
              "      <td>2.3</td>\n",
              "      <td>Tiny</td>\n",
              "      <td>Archibald</td>\n",
              "      <td>T.</td>\n",
              "    </tr>\n",
              "  </tbody>\n",
              "</table>\n",
              "<p>5 rows × 48 columns</p>\n",
              "</div>"
            ],
            "text/plain": [
              "  Rank               Player  Age   Tm  First  Pts Won  Pts Max  Share   G  \\\n",
              "0    1  Kareem Abdul-Jabbar   32  LAL  147.0    147.0      221  0.665  82   \n",
              "1    2        Julius Erving   29  PHI   31.5     31.5      221  0.143  78   \n",
              "2    3        George Gervin   27  SAS   19.0     19.0      221  0.086  78   \n",
              "3    4           Larry Bird   23  BOS   15.0     15.0      221  0.068  82   \n",
              "4   5T       Tiny Archibald   31  BOS    2.0      2.0      221  0.009  80   \n",
              "\n",
              "     MP  ...  defensive_win_shares  win_shares  win_shares_per_48_minutes  \\\n",
              "0  38.3  ...                   5.3        14.8                      0.227   \n",
              "1  36.1  ...                   5.2        12.5                      0.213   \n",
              "2  37.6  ...                   1.3        10.6                      0.173   \n",
              "3  36.0  ...                   5.6        11.2                      0.182   \n",
              "4  35.8  ...                   2.9         8.9                      0.148   \n",
              "\n",
              "   offensive_box_plus_minus  defensive_box_plus_minus  box_plus_minus  \\\n",
              "0                       4.8                       2.4             7.2   \n",
              "1                       5.7                       1.9             7.6   \n",
              "2                       5.5                      -1.6             3.9   \n",
              "3                       3.0                       1.5             4.5   \n",
              "4                       1.4                      -0.3             1.1   \n",
              "\n",
              "   value_over_replacement_player    Name       Surname  First_Name  \n",
              "0                            7.3  Kareem  Abdul-Jabbar          K.  \n",
              "1                            6.8  Julius        Erving          J.  \n",
              "2                            4.4  George        Gervin          G.  \n",
              "3                            4.8   Larry          Bird          L.  \n",
              "4                            2.3    Tiny     Archibald          T.  \n",
              "\n",
              "[5 rows x 48 columns]"
            ]
          },
          "execution_count": 18,
          "metadata": {},
          "output_type": "execute_result"
        }
      ],
      "source": [
        "filtered_df.head()"
      ]
    },
    {
      "cell_type": "markdown",
      "metadata": {},
      "source": [
        "# Check for null values"
      ]
    },
    {
      "cell_type": "code",
      "execution_count": 19,
      "metadata": {},
      "outputs": [
        {
          "data": {
            "text/plain": [
              "Rank                             0\n",
              "Player                           0\n",
              "Age                              0\n",
              "Tm                               0\n",
              "First                            0\n",
              "Pts Won                          0\n",
              "Pts Max                          0\n",
              "Share                            0\n",
              "G                                0\n",
              "MP                               0\n",
              "PTS                              0\n",
              "TRB                              0\n",
              "AST                              0\n",
              "STL                              0\n",
              "BLK                              0\n",
              "FG%                              0\n",
              "3P%                              0\n",
              "FT%                              0\n",
              "WS                               0\n",
              "WS/48                            0\n",
              "year                             0\n",
              "team                             0\n",
              "W                                0\n",
              "W/L%                             0\n",
              "seed                             0\n",
              "player_efficiency_rating         0\n",
              "true_shooting_percentage         0\n",
              "three_point_attempt_rate         0\n",
              "free_throw_attempt_rate          0\n",
              "offensive_rebound_percentage     0\n",
              "defensive_rebound_percentage     0\n",
              "total_rebound_percentage         0\n",
              "assist_percentage                0\n",
              "steal_percentage                 0\n",
              "block_percentage                 0\n",
              "turnover_percentage              0\n",
              "usage_percentage                 0\n",
              "offensive_win_shares             0\n",
              "defensive_win_shares             0\n",
              "win_shares                       0\n",
              "win_shares_per_48_minutes        0\n",
              "offensive_box_plus_minus         0\n",
              "defensive_box_plus_minus         0\n",
              "box_plus_minus                   0\n",
              "value_over_replacement_player    0\n",
              "Name                             0\n",
              "Surname                          0\n",
              "First_Name                       0\n",
              "dtype: int64"
            ]
          },
          "execution_count": 19,
          "metadata": {},
          "output_type": "execute_result"
        }
      ],
      "source": [
        "filtered_df.isnull().sum()"
      ]
    },
    {
      "cell_type": "markdown",
      "metadata": {},
      "source": [
        "# Check for duplicates"
      ]
    },
    {
      "cell_type": "code",
      "execution_count": 21,
      "metadata": {},
      "outputs": [
        {
          "data": {
            "text/plain": [
              "0"
            ]
          },
          "execution_count": 21,
          "metadata": {},
          "output_type": "execute_result"
        }
      ],
      "source": [
        "filtered_df.duplicated().sum()"
      ]
    },
    {
      "cell_type": "markdown",
      "metadata": {},
      "source": [
        "# Save to a new CSV file"
      ]
    },
    {
      "cell_type": "code",
      "execution_count": 22,
      "metadata": {},
      "outputs": [],
      "source": [
        "filtered_df.to_csv('../data/outputs/nba-data-1980plus.csv', index=False)"
      ]
    },
    {
      "cell_type": "markdown",
      "metadata": {
        "id": "ZY3l0-AxO93d"
      },
      "source": [
        "---"
      ]
    },
    {
      "cell_type": "markdown",
      "metadata": {
        "id": "uFQo3ycuO-v6"
      },
      "source": [
        "# Section 2"
      ]
    },
    {
      "cell_type": "markdown",
      "metadata": {},
      "source": [
        "Section 2 content"
      ]
    },
    {
      "cell_type": "code",
      "execution_count": null,
      "metadata": {},
      "outputs": [],
      "source": []
    },
    {
      "cell_type": "markdown",
      "metadata": {},
      "source": [
        "---"
      ]
    },
    {
      "cell_type": "markdown",
      "metadata": {},
      "source": [
        "NOTE"
      ]
    },
    {
      "cell_type": "markdown",
      "metadata": {},
      "source": [
        "* You may add as many sections as you want, as long as it supports your project workflow.\n",
        "* All notebook's cells should be run top-down (you can't create a dynamic wherein a given point you need to go back to a previous cell to execute some task, like go back to a previous cell and refresh a variable content)"
      ]
    },
    {
      "cell_type": "markdown",
      "metadata": {},
      "source": [
        "---"
      ]
    },
    {
      "cell_type": "markdown",
      "metadata": {
        "id": "ltNetd085qHf"
      },
      "source": [
        "# Push files to Repo"
      ]
    },
    {
      "cell_type": "markdown",
      "metadata": {},
      "source": [
        "* In cases where you don't need to push files to Repo, you may replace this section with \"Conclusions and Next Steps\" and state your conclusions and next steps."
      ]
    },
    {
      "cell_type": "code",
      "execution_count": null,
      "metadata": {
        "id": "aKlnIozA4eQO",
        "outputId": "fd09bc1f-adb1-4511-f6ce-492a6af570c0"
      },
      "outputs": [],
      "source": [
        "import os\n",
        "try:\n",
        "  # create your folder here\n",
        "  # os.makedirs(name='')\n",
        "except Exception as e:\n",
        "  print(e)\n"
      ]
    }
  ],
  "metadata": {
    "accelerator": "GPU",
    "colab": {
      "name": "Data Practitioner Jupyter Notebook.ipynb",
      "provenance": [],
      "toc_visible": true
    },
    "kernelspec": {
      "display_name": ".venv",
      "language": "python",
      "name": "python3"
    },
    "language_info": {
      "codemirror_mode": {
        "name": "ipython",
        "version": 3
      },
      "file_extension": ".py",
      "mimetype": "text/x-python",
      "name": "python",
      "nbconvert_exporter": "python",
      "pygments_lexer": "ipython3",
      "version": "3.12.8"
    },
    "orig_nbformat": 2
  },
  "nbformat": 4,
  "nbformat_minor": 2
}
