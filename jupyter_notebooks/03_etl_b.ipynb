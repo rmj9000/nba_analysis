{
  "cells": [
    {
      "cell_type": "markdown",
      "metadata": {
        "id": "0aStgWSO0E0E"
      },
      "source": [
        "# **NBA Anaysis: Extract, Transform, Load**"
      ]
    },
    {
      "cell_type": "markdown",
      "metadata": {
        "id": "1eLEkw5O0ECa"
      },
      "source": [
        "## Objectives\n",
        "\n",
        "* Load data set from Kaggle: \n",
        "https://www.kaggle.com/datasets/thedevastator/historical-nba-finals-and-mvp-results/data?select=NBA+Finals+and+MVP.csv\n",
        "\n",
        "File was renamed to lower case and spaces replaced with _ for usage.\n",
        "\n",
        "Credit: Tristan Malherbe ( https://data.world/datatouille ) as per usage instructions of the data set\n",
        "\n",
        "## Inputs\n",
        "\n",
        "* Files used: \n",
        "nba_finals_and_mvp.csv\n",
        "\n",
        "\n",
        "## Outputs\n",
        "\n",
        "* File produced:\n",
        "nba-cities-coordinates-logolinks.csv \n",
        "\n",
        "## Additional Comments\n",
        "\n",
        "* This dataset contains essential information about the wins, losses, and MVP awards spanning the long-standing rivalry between the Eastern and Western Conferences in the NBA.  \n",
        "* Note: columns listed in this dataset:\n",
        "\n",
        "Year: The year of the NBA Finals. (Integer)\n",
        "Western Champion: The team that won the Western Conference. (String)\n",
        "Eastern Champion: The team that won the Eastern Conference. (String)\n",
        "Result: The result of the NBA Finals. (String)\n",
        "NBA Champion: The team that won the NBA Finals.(String)\n",
        "NBA Vice-Champion: The team that lost the NBA Finals.(String)\n",
        "Final Sweep ? Whether or not the NBA Finals was a sweep. (Boolean)\n",
        "MVP Name: The name of the MVP. (String)\n",
        "MVP Height (m):\tThe height of the MVP in meters. (Float)\n",
        "MVP Height (ft): The height of the MVP in feet. (Float)\n",
        "MVP Position: The position of the MVP. (String)\n",
        "MVP Team: The team of the MVP. (String)\n",
        "MVP Nationality: The nationality of the MVP. (String)\n",
        "MVP status: The status of the MVP (whether the MVP won the Championship, reached the final or not). (String)\n",
        "* Note: only require data from 1980 onwards\n",
        "\n",
        "\n"
      ]
    },
    {
      "cell_type": "markdown",
      "metadata": {
        "id": "9uWZXH9LwoQg"
      },
      "source": [
        "---"
      ]
    },
    {
      "cell_type": "markdown",
      "metadata": {
        "id": "-mavJ8DibrcQ"
      },
      "source": [
        "# Section 1"
      ]
    },
    {
      "cell_type": "markdown",
      "metadata": {},
      "source": [
        "#Import necessary libraries"
      ]
    },
    {
      "cell_type": "code",
      "execution_count": 15,
      "metadata": {},
      "outputs": [],
      "source": [
        "import pandas as pd"
      ]
    },
    {
      "cell_type": "markdown",
      "metadata": {},
      "source": [
        "# Load CSV file"
      ]
    },
    {
      "cell_type": "code",
      "execution_count": 16,
      "metadata": {},
      "outputs": [],
      "source": [
        "df1 = pd.read_csv('../data/inputs/raw/nba_finals_and_mvp.csv')"
      ]
    },
    {
      "cell_type": "markdown",
      "metadata": {},
      "source": [
        "# Look at data"
      ]
    },
    {
      "cell_type": "code",
      "execution_count": 17,
      "metadata": {},
      "outputs": [
        {
          "data": {
            "text/html": [
              "<div>\n",
              "<style scoped>\n",
              "    .dataframe tbody tr th:only-of-type {\n",
              "        vertical-align: middle;\n",
              "    }\n",
              "\n",
              "    .dataframe tbody tr th {\n",
              "        vertical-align: top;\n",
              "    }\n",
              "\n",
              "    .dataframe thead th {\n",
              "        text-align: right;\n",
              "    }\n",
              "</style>\n",
              "<table border=\"1\" class=\"dataframe\">\n",
              "  <thead>\n",
              "    <tr style=\"text-align: right;\">\n",
              "      <th></th>\n",
              "      <th>index</th>\n",
              "      <th>Year</th>\n",
              "      <th>Western Champion</th>\n",
              "      <th>Eastern Champion</th>\n",
              "      <th>Result</th>\n",
              "      <th>NBA Champion</th>\n",
              "      <th>NBA Vice-Champion</th>\n",
              "      <th>Final Sweep ?</th>\n",
              "      <th>MVP Name</th>\n",
              "      <th>MVP Height (m)</th>\n",
              "      <th>MVP Height (ft)</th>\n",
              "      <th>MVP Position</th>\n",
              "      <th>MVP Team</th>\n",
              "      <th>MVP Nationality</th>\n",
              "      <th>MVP status</th>\n",
              "    </tr>\n",
              "  </thead>\n",
              "  <tbody>\n",
              "    <tr>\n",
              "      <th>0</th>\n",
              "      <td>0</td>\n",
              "      <td>1950</td>\n",
              "      <td>Minneapolis Lakers</td>\n",
              "      <td>Syracuse Nationals</td>\n",
              "      <td>4–2</td>\n",
              "      <td>Minneapolis Lakers</td>\n",
              "      <td>Syracuse Nationals</td>\n",
              "      <td>False</td>\n",
              "      <td>NaN</td>\n",
              "      <td>NaN</td>\n",
              "      <td>NaN</td>\n",
              "      <td>NaN</td>\n",
              "      <td>NaN</td>\n",
              "      <td>NaN</td>\n",
              "      <td>NaN</td>\n",
              "    </tr>\n",
              "    <tr>\n",
              "      <th>1</th>\n",
              "      <td>1</td>\n",
              "      <td>1951</td>\n",
              "      <td>Rochester Royals</td>\n",
              "      <td>New York Knicks</td>\n",
              "      <td>4–3</td>\n",
              "      <td>Rochester Royals</td>\n",
              "      <td>New York Knicks</td>\n",
              "      <td>False</td>\n",
              "      <td>NaN</td>\n",
              "      <td>NaN</td>\n",
              "      <td>NaN</td>\n",
              "      <td>NaN</td>\n",
              "      <td>NaN</td>\n",
              "      <td>NaN</td>\n",
              "      <td>NaN</td>\n",
              "    </tr>\n",
              "    <tr>\n",
              "      <th>2</th>\n",
              "      <td>2</td>\n",
              "      <td>1952</td>\n",
              "      <td>Minneapolis Lakers</td>\n",
              "      <td>New York Knicks</td>\n",
              "      <td>4–3</td>\n",
              "      <td>Minneapolis Lakers</td>\n",
              "      <td>New York Knicks</td>\n",
              "      <td>False</td>\n",
              "      <td>NaN</td>\n",
              "      <td>NaN</td>\n",
              "      <td>NaN</td>\n",
              "      <td>NaN</td>\n",
              "      <td>NaN</td>\n",
              "      <td>NaN</td>\n",
              "      <td>NaN</td>\n",
              "    </tr>\n",
              "    <tr>\n",
              "      <th>3</th>\n",
              "      <td>3</td>\n",
              "      <td>1953</td>\n",
              "      <td>Minneapolis Lakers</td>\n",
              "      <td>New York Knicks</td>\n",
              "      <td>4–1</td>\n",
              "      <td>Minneapolis Lakers</td>\n",
              "      <td>New York Knicks</td>\n",
              "      <td>False</td>\n",
              "      <td>NaN</td>\n",
              "      <td>NaN</td>\n",
              "      <td>NaN</td>\n",
              "      <td>NaN</td>\n",
              "      <td>NaN</td>\n",
              "      <td>NaN</td>\n",
              "      <td>NaN</td>\n",
              "    </tr>\n",
              "    <tr>\n",
              "      <th>4</th>\n",
              "      <td>4</td>\n",
              "      <td>1954</td>\n",
              "      <td>Minneapolis Lakers</td>\n",
              "      <td>Syracuse Nationals</td>\n",
              "      <td>4–3</td>\n",
              "      <td>Minneapolis Lakers</td>\n",
              "      <td>Syracuse Nationals</td>\n",
              "      <td>False</td>\n",
              "      <td>NaN</td>\n",
              "      <td>NaN</td>\n",
              "      <td>NaN</td>\n",
              "      <td>NaN</td>\n",
              "      <td>NaN</td>\n",
              "      <td>NaN</td>\n",
              "      <td>NaN</td>\n",
              "    </tr>\n",
              "  </tbody>\n",
              "</table>\n",
              "</div>"
            ],
            "text/plain": [
              "   index  Year    Western Champion    Eastern Champion Result  \\\n",
              "0      0  1950  Minneapolis Lakers  Syracuse Nationals    4–2   \n",
              "1      1  1951    Rochester Royals     New York Knicks    4–3   \n",
              "2      2  1952  Minneapolis Lakers     New York Knicks    4–3   \n",
              "3      3  1953  Minneapolis Lakers     New York Knicks    4–1   \n",
              "4      4  1954  Minneapolis Lakers  Syracuse Nationals    4–3   \n",
              "\n",
              "         NBA Champion   NBA Vice-Champion  Final Sweep ? MVP Name  \\\n",
              "0  Minneapolis Lakers  Syracuse Nationals          False      NaN   \n",
              "1    Rochester Royals     New York Knicks          False      NaN   \n",
              "2  Minneapolis Lakers     New York Knicks          False      NaN   \n",
              "3  Minneapolis Lakers     New York Knicks          False      NaN   \n",
              "4  Minneapolis Lakers  Syracuse Nationals          False      NaN   \n",
              "\n",
              "   MVP Height (m)  MVP Height (ft) MVP Position MVP Team MVP Nationality  \\\n",
              "0             NaN              NaN          NaN      NaN             NaN   \n",
              "1             NaN              NaN          NaN      NaN             NaN   \n",
              "2             NaN              NaN          NaN      NaN             NaN   \n",
              "3             NaN              NaN          NaN      NaN             NaN   \n",
              "4             NaN              NaN          NaN      NaN             NaN   \n",
              "\n",
              "  MVP status  \n",
              "0        NaN  \n",
              "1        NaN  \n",
              "2        NaN  \n",
              "3        NaN  \n",
              "4        NaN  "
            ]
          },
          "execution_count": 17,
          "metadata": {},
          "output_type": "execute_result"
        }
      ],
      "source": [
        "df1.head()\n"
      ]
    },
    {
      "cell_type": "markdown",
      "metadata": {},
      "source": [
        "# Look at shape"
      ]
    },
    {
      "cell_type": "code",
      "execution_count": 18,
      "metadata": {},
      "outputs": [
        {
          "data": {
            "text/plain": [
              "(69, 15)"
            ]
          },
          "execution_count": 18,
          "metadata": {},
          "output_type": "execute_result"
        }
      ],
      "source": [
        "df1.shape"
      ]
    },
    {
      "cell_type": "markdown",
      "metadata": {},
      "source": [
        "# Check data types"
      ]
    },
    {
      "cell_type": "code",
      "execution_count": 19,
      "metadata": {},
      "outputs": [
        {
          "name": "stdout",
          "output_type": "stream",
          "text": [
            "<class 'pandas.core.frame.DataFrame'>\n",
            "RangeIndex: 69 entries, 0 to 68\n",
            "Data columns (total 15 columns):\n",
            " #   Column             Non-Null Count  Dtype  \n",
            "---  ------             --------------  -----  \n",
            " 0   index              69 non-null     int64  \n",
            " 1   Year               69 non-null     int64  \n",
            " 2   Western Champion   69 non-null     object \n",
            " 3   Eastern Champion   69 non-null     object \n",
            " 4   Result             69 non-null     object \n",
            " 5   NBA Champion       69 non-null     object \n",
            " 6   NBA Vice-Champion  69 non-null     object \n",
            " 7   Final Sweep ?      69 non-null     bool   \n",
            " 8   MVP Name           63 non-null     object \n",
            " 9   MVP Height (m)     63 non-null     float64\n",
            " 10  MVP Height (ft)    63 non-null     float64\n",
            " 11  MVP Position       63 non-null     object \n",
            " 12  MVP Team           63 non-null     object \n",
            " 13  MVP Nationality    63 non-null     object \n",
            " 14  MVP status         63 non-null     object \n",
            "dtypes: bool(1), float64(2), int64(2), object(10)\n",
            "memory usage: 7.7+ KB\n"
          ]
        }
      ],
      "source": [
        "df1.info()"
      ]
    },
    {
      "cell_type": "markdown",
      "metadata": {},
      "source": [
        "# Check null values"
      ]
    },
    {
      "cell_type": "code",
      "execution_count": 20,
      "metadata": {},
      "outputs": [
        {
          "data": {
            "text/plain": [
              "index                0\n",
              "Year                 0\n",
              "Western Champion     0\n",
              "Eastern Champion     0\n",
              "Result               0\n",
              "NBA Champion         0\n",
              "NBA Vice-Champion    0\n",
              "Final Sweep ?        0\n",
              "MVP Name             6\n",
              "MVP Height (m)       6\n",
              "MVP Height (ft)      6\n",
              "MVP Position         6\n",
              "MVP Team             6\n",
              "MVP Nationality      6\n",
              "MVP status           6\n",
              "dtype: int64"
            ]
          },
          "execution_count": 20,
          "metadata": {},
          "output_type": "execute_result"
        }
      ],
      "source": [
        "df1.isnull().sum()"
      ]
    },
    {
      "cell_type": "markdown",
      "metadata": {},
      "source": [
        "# Check for duplicates"
      ]
    },
    {
      "cell_type": "code",
      "execution_count": 21,
      "metadata": {},
      "outputs": [
        {
          "data": {
            "text/plain": [
              "0"
            ]
          },
          "execution_count": 21,
          "metadata": {},
          "output_type": "execute_result"
        }
      ],
      "source": [
        "df1.duplicated().sum()"
      ]
    },
    {
      "cell_type": "markdown",
      "metadata": {},
      "source": [
        "# Only data from 1980 onwards is being used, so anything before this date needs to be removed.\n",
        "# Filter rows where the year is 1980 or later"
      ]
    },
    {
      "cell_type": "code",
      "execution_count": 22,
      "metadata": {},
      "outputs": [],
      "source": [
        "filtered_df = df1[df1['Year'] >= 1980]\n"
      ]
    },
    {
      "cell_type": "markdown",
      "metadata": {},
      "source": [
        "# Check new data frame\n"
      ]
    },
    {
      "cell_type": "code",
      "execution_count": 23,
      "metadata": {},
      "outputs": [
        {
          "data": {
            "text/html": [
              "<div>\n",
              "<style scoped>\n",
              "    .dataframe tbody tr th:only-of-type {\n",
              "        vertical-align: middle;\n",
              "    }\n",
              "\n",
              "    .dataframe tbody tr th {\n",
              "        vertical-align: top;\n",
              "    }\n",
              "\n",
              "    .dataframe thead th {\n",
              "        text-align: right;\n",
              "    }\n",
              "</style>\n",
              "<table border=\"1\" class=\"dataframe\">\n",
              "  <thead>\n",
              "    <tr style=\"text-align: right;\">\n",
              "      <th></th>\n",
              "      <th>index</th>\n",
              "      <th>Year</th>\n",
              "      <th>Western Champion</th>\n",
              "      <th>Eastern Champion</th>\n",
              "      <th>Result</th>\n",
              "      <th>NBA Champion</th>\n",
              "      <th>NBA Vice-Champion</th>\n",
              "      <th>Final Sweep ?</th>\n",
              "      <th>MVP Name</th>\n",
              "      <th>MVP Height (m)</th>\n",
              "      <th>MVP Height (ft)</th>\n",
              "      <th>MVP Position</th>\n",
              "      <th>MVP Team</th>\n",
              "      <th>MVP Nationality</th>\n",
              "      <th>MVP status</th>\n",
              "    </tr>\n",
              "  </thead>\n",
              "  <tbody>\n",
              "    <tr>\n",
              "      <th>30</th>\n",
              "      <td>30</td>\n",
              "      <td>1980</td>\n",
              "      <td>Los Angeles Lakers</td>\n",
              "      <td>Philadelphia 76ers</td>\n",
              "      <td>4–2</td>\n",
              "      <td>Los Angeles Lakers</td>\n",
              "      <td>Philadelphia 76ers</td>\n",
              "      <td>False</td>\n",
              "      <td>K. AJabbar</td>\n",
              "      <td>2.18</td>\n",
              "      <td>7.152231</td>\n",
              "      <td>Center</td>\n",
              "      <td>Los Angeles Lakers</td>\n",
              "      <td>US</td>\n",
              "      <td>Champion</td>\n",
              "    </tr>\n",
              "    <tr>\n",
              "      <th>31</th>\n",
              "      <td>31</td>\n",
              "      <td>1981</td>\n",
              "      <td>Houston Rockets</td>\n",
              "      <td>Boston Celtics</td>\n",
              "      <td>2–4</td>\n",
              "      <td>Boston Celtics</td>\n",
              "      <td>Houston Rockets</td>\n",
              "      <td>False</td>\n",
              "      <td>J. Erving</td>\n",
              "      <td>2.01</td>\n",
              "      <td>6.594488</td>\n",
              "      <td>Forward</td>\n",
              "      <td>Philadelphia 76ers</td>\n",
              "      <td>US</td>\n",
              "      <td>Not reached Final</td>\n",
              "    </tr>\n",
              "    <tr>\n",
              "      <th>32</th>\n",
              "      <td>32</td>\n",
              "      <td>1982</td>\n",
              "      <td>Los Angeles Lakers</td>\n",
              "      <td>Philadelphia 76ers</td>\n",
              "      <td>4–2</td>\n",
              "      <td>Los Angeles Lakers</td>\n",
              "      <td>Philadelphia 76ers</td>\n",
              "      <td>False</td>\n",
              "      <td>M. Malone</td>\n",
              "      <td>2.08</td>\n",
              "      <td>6.824147</td>\n",
              "      <td>Center</td>\n",
              "      <td>Houston Rockets</td>\n",
              "      <td>US</td>\n",
              "      <td>Not reached Final</td>\n",
              "    </tr>\n",
              "    <tr>\n",
              "      <th>33</th>\n",
              "      <td>33</td>\n",
              "      <td>1983</td>\n",
              "      <td>Los Angeles Lakers</td>\n",
              "      <td>Philadelphia 76ers</td>\n",
              "      <td>0–4</td>\n",
              "      <td>Philadelphia 76ers</td>\n",
              "      <td>Los Angeles Lakers</td>\n",
              "      <td>True</td>\n",
              "      <td>M. Malone</td>\n",
              "      <td>2.08</td>\n",
              "      <td>6.824147</td>\n",
              "      <td>Center</td>\n",
              "      <td>Philadelphia 76ers</td>\n",
              "      <td>US</td>\n",
              "      <td>Champion</td>\n",
              "    </tr>\n",
              "    <tr>\n",
              "      <th>34</th>\n",
              "      <td>34</td>\n",
              "      <td>1984</td>\n",
              "      <td>Los Angeles Lakers</td>\n",
              "      <td>Boston Celtics</td>\n",
              "      <td>3–4</td>\n",
              "      <td>Boston Celtics</td>\n",
              "      <td>Los Angeles Lakers</td>\n",
              "      <td>False</td>\n",
              "      <td>L. Bird</td>\n",
              "      <td>2.06</td>\n",
              "      <td>6.758530</td>\n",
              "      <td>Forward</td>\n",
              "      <td>Boston Celtics</td>\n",
              "      <td>US</td>\n",
              "      <td>Champion</td>\n",
              "    </tr>\n",
              "  </tbody>\n",
              "</table>\n",
              "</div>"
            ],
            "text/plain": [
              "    index  Year    Western Champion    Eastern Champion Result  \\\n",
              "30     30  1980  Los Angeles Lakers  Philadelphia 76ers    4–2   \n",
              "31     31  1981     Houston Rockets      Boston Celtics    2–4   \n",
              "32     32  1982  Los Angeles Lakers  Philadelphia 76ers    4–2   \n",
              "33     33  1983  Los Angeles Lakers  Philadelphia 76ers    0–4   \n",
              "34     34  1984  Los Angeles Lakers      Boston Celtics    3–4   \n",
              "\n",
              "          NBA Champion   NBA Vice-Champion  Final Sweep ?    MVP Name  \\\n",
              "30  Los Angeles Lakers  Philadelphia 76ers          False  K. AJabbar   \n",
              "31      Boston Celtics     Houston Rockets          False   J. Erving   \n",
              "32  Los Angeles Lakers  Philadelphia 76ers          False   M. Malone   \n",
              "33  Philadelphia 76ers  Los Angeles Lakers           True   M. Malone   \n",
              "34      Boston Celtics  Los Angeles Lakers          False     L. Bird   \n",
              "\n",
              "    MVP Height (m)  MVP Height (ft) MVP Position            MVP Team  \\\n",
              "30            2.18         7.152231       Center  Los Angeles Lakers   \n",
              "31            2.01         6.594488      Forward  Philadelphia 76ers   \n",
              "32            2.08         6.824147       Center     Houston Rockets   \n",
              "33            2.08         6.824147       Center  Philadelphia 76ers   \n",
              "34            2.06         6.758530      Forward      Boston Celtics   \n",
              "\n",
              "   MVP Nationality         MVP status  \n",
              "30              US           Champion  \n",
              "31              US  Not reached Final  \n",
              "32              US  Not reached Final  \n",
              "33              US           Champion  \n",
              "34              US           Champion  "
            ]
          },
          "execution_count": 23,
          "metadata": {},
          "output_type": "execute_result"
        }
      ],
      "source": [
        "filtered_df.head()"
      ]
    },
    {
      "cell_type": "markdown",
      "metadata": {},
      "source": [
        "# Can see here that \"Kareem Abdul-Jabbar\" is being shown as \"K. AJabbar\" which may be a potential problem later when linking to other data. Change the filtered data with the convention of first initial and last name. May need to separate last name from initial for use with other data sets."
      ]
    },
    {
      "cell_type": "code",
      "execution_count": 28,
      "metadata": {},
      "outputs": [
        {
          "name": "stderr",
          "output_type": "stream",
          "text": [
            "C:\\Users\\ronni\\AppData\\Local\\Temp\\ipykernel_53332\\528381798.py:2: SettingWithCopyWarning: \n",
            "A value is trying to be set on a copy of a slice from a DataFrame.\n",
            "Try using .loc[row_indexer,col_indexer] = value instead\n",
            "\n",
            "See the caveats in the documentation: https://pandas.pydata.org/pandas-docs/stable/user_guide/indexing.html#returning-a-view-versus-a-copy\n",
            "  filtered_df['MVP Name'] = filtered_df['MVP Name'].replace('K. AJabbar', 'K. Abdul-Jabbar')\n"
          ]
        }
      ],
      "source": [
        "# Replace the string in a specific column (e.g., 'Player')\n",
        "filtered_df['MVP Name'] = filtered_df['MVP Name'].replace('K. AJabbar', 'K. Abdul-Jabbar')"
      ]
    },
    {
      "cell_type": "markdown",
      "metadata": {},
      "source": [
        "# Check data frame to view the change as earlier (Abdul-Jabbar appears near the top of the data set)"
      ]
    },
    {
      "cell_type": "code",
      "execution_count": 29,
      "metadata": {},
      "outputs": [
        {
          "data": {
            "text/html": [
              "<div>\n",
              "<style scoped>\n",
              "    .dataframe tbody tr th:only-of-type {\n",
              "        vertical-align: middle;\n",
              "    }\n",
              "\n",
              "    .dataframe tbody tr th {\n",
              "        vertical-align: top;\n",
              "    }\n",
              "\n",
              "    .dataframe thead th {\n",
              "        text-align: right;\n",
              "    }\n",
              "</style>\n",
              "<table border=\"1\" class=\"dataframe\">\n",
              "  <thead>\n",
              "    <tr style=\"text-align: right;\">\n",
              "      <th></th>\n",
              "      <th>index</th>\n",
              "      <th>Year</th>\n",
              "      <th>Western Champion</th>\n",
              "      <th>Eastern Champion</th>\n",
              "      <th>Result</th>\n",
              "      <th>NBA Champion</th>\n",
              "      <th>NBA Vice-Champion</th>\n",
              "      <th>Final Sweep ?</th>\n",
              "      <th>MVP Name</th>\n",
              "      <th>MVP Height (m)</th>\n",
              "      <th>MVP Height (ft)</th>\n",
              "      <th>MVP Position</th>\n",
              "      <th>MVP Team</th>\n",
              "      <th>MVP Nationality</th>\n",
              "      <th>MVP status</th>\n",
              "    </tr>\n",
              "  </thead>\n",
              "  <tbody>\n",
              "    <tr>\n",
              "      <th>30</th>\n",
              "      <td>30</td>\n",
              "      <td>1980</td>\n",
              "      <td>Los Angeles Lakers</td>\n",
              "      <td>Philadelphia 76ers</td>\n",
              "      <td>4–2</td>\n",
              "      <td>Los Angeles Lakers</td>\n",
              "      <td>Philadelphia 76ers</td>\n",
              "      <td>False</td>\n",
              "      <td>K. Abdul-Jabbar</td>\n",
              "      <td>2.18</td>\n",
              "      <td>7.152231</td>\n",
              "      <td>Center</td>\n",
              "      <td>Los Angeles Lakers</td>\n",
              "      <td>US</td>\n",
              "      <td>Champion</td>\n",
              "    </tr>\n",
              "    <tr>\n",
              "      <th>31</th>\n",
              "      <td>31</td>\n",
              "      <td>1981</td>\n",
              "      <td>Houston Rockets</td>\n",
              "      <td>Boston Celtics</td>\n",
              "      <td>2–4</td>\n",
              "      <td>Boston Celtics</td>\n",
              "      <td>Houston Rockets</td>\n",
              "      <td>False</td>\n",
              "      <td>J. Erving</td>\n",
              "      <td>2.01</td>\n",
              "      <td>6.594488</td>\n",
              "      <td>Forward</td>\n",
              "      <td>Philadelphia 76ers</td>\n",
              "      <td>US</td>\n",
              "      <td>Not reached Final</td>\n",
              "    </tr>\n",
              "    <tr>\n",
              "      <th>32</th>\n",
              "      <td>32</td>\n",
              "      <td>1982</td>\n",
              "      <td>Los Angeles Lakers</td>\n",
              "      <td>Philadelphia 76ers</td>\n",
              "      <td>4–2</td>\n",
              "      <td>Los Angeles Lakers</td>\n",
              "      <td>Philadelphia 76ers</td>\n",
              "      <td>False</td>\n",
              "      <td>M. Malone</td>\n",
              "      <td>2.08</td>\n",
              "      <td>6.824147</td>\n",
              "      <td>Center</td>\n",
              "      <td>Houston Rockets</td>\n",
              "      <td>US</td>\n",
              "      <td>Not reached Final</td>\n",
              "    </tr>\n",
              "    <tr>\n",
              "      <th>33</th>\n",
              "      <td>33</td>\n",
              "      <td>1983</td>\n",
              "      <td>Los Angeles Lakers</td>\n",
              "      <td>Philadelphia 76ers</td>\n",
              "      <td>0–4</td>\n",
              "      <td>Philadelphia 76ers</td>\n",
              "      <td>Los Angeles Lakers</td>\n",
              "      <td>True</td>\n",
              "      <td>M. Malone</td>\n",
              "      <td>2.08</td>\n",
              "      <td>6.824147</td>\n",
              "      <td>Center</td>\n",
              "      <td>Philadelphia 76ers</td>\n",
              "      <td>US</td>\n",
              "      <td>Champion</td>\n",
              "    </tr>\n",
              "    <tr>\n",
              "      <th>34</th>\n",
              "      <td>34</td>\n",
              "      <td>1984</td>\n",
              "      <td>Los Angeles Lakers</td>\n",
              "      <td>Boston Celtics</td>\n",
              "      <td>3–4</td>\n",
              "      <td>Boston Celtics</td>\n",
              "      <td>Los Angeles Lakers</td>\n",
              "      <td>False</td>\n",
              "      <td>L. Bird</td>\n",
              "      <td>2.06</td>\n",
              "      <td>6.758530</td>\n",
              "      <td>Forward</td>\n",
              "      <td>Boston Celtics</td>\n",
              "      <td>US</td>\n",
              "      <td>Champion</td>\n",
              "    </tr>\n",
              "  </tbody>\n",
              "</table>\n",
              "</div>"
            ],
            "text/plain": [
              "    index  Year    Western Champion    Eastern Champion Result  \\\n",
              "30     30  1980  Los Angeles Lakers  Philadelphia 76ers    4–2   \n",
              "31     31  1981     Houston Rockets      Boston Celtics    2–4   \n",
              "32     32  1982  Los Angeles Lakers  Philadelphia 76ers    4–2   \n",
              "33     33  1983  Los Angeles Lakers  Philadelphia 76ers    0–4   \n",
              "34     34  1984  Los Angeles Lakers      Boston Celtics    3–4   \n",
              "\n",
              "          NBA Champion   NBA Vice-Champion  Final Sweep ?         MVP Name  \\\n",
              "30  Los Angeles Lakers  Philadelphia 76ers          False  K. Abdul-Jabbar   \n",
              "31      Boston Celtics     Houston Rockets          False        J. Erving   \n",
              "32  Los Angeles Lakers  Philadelphia 76ers          False        M. Malone   \n",
              "33  Philadelphia 76ers  Los Angeles Lakers           True        M. Malone   \n",
              "34      Boston Celtics  Los Angeles Lakers          False          L. Bird   \n",
              "\n",
              "    MVP Height (m)  MVP Height (ft) MVP Position            MVP Team  \\\n",
              "30            2.18         7.152231       Center  Los Angeles Lakers   \n",
              "31            2.01         6.594488      Forward  Philadelphia 76ers   \n",
              "32            2.08         6.824147       Center     Houston Rockets   \n",
              "33            2.08         6.824147       Center  Philadelphia 76ers   \n",
              "34            2.06         6.758530      Forward      Boston Celtics   \n",
              "\n",
              "   MVP Nationality         MVP status  \n",
              "30              US           Champion  \n",
              "31              US  Not reached Final  \n",
              "32              US  Not reached Final  \n",
              "33              US           Champion  \n",
              "34              US           Champion  "
            ]
          },
          "execution_count": 29,
          "metadata": {},
          "output_type": "execute_result"
        }
      ],
      "source": [
        "filtered_df.head()"
      ]
    },
    {
      "cell_type": "markdown",
      "metadata": {},
      "source": [
        "# Check null values"
      ]
    },
    {
      "cell_type": "code",
      "execution_count": 30,
      "metadata": {},
      "outputs": [
        {
          "data": {
            "text/plain": [
              "index                0\n",
              "Year                 0\n",
              "Western Champion     0\n",
              "Eastern Champion     0\n",
              "Result               0\n",
              "NBA Champion         0\n",
              "NBA Vice-Champion    0\n",
              "Final Sweep ?        0\n",
              "MVP Name             0\n",
              "MVP Height (m)       0\n",
              "MVP Height (ft)      0\n",
              "MVP Position         0\n",
              "MVP Team             0\n",
              "MVP Nationality      0\n",
              "MVP status           0\n",
              "dtype: int64"
            ]
          },
          "execution_count": 30,
          "metadata": {},
          "output_type": "execute_result"
        }
      ],
      "source": [
        "filtered_df.isnull().sum()"
      ]
    },
    {
      "cell_type": "markdown",
      "metadata": {},
      "source": [
        "# Check for duplicates"
      ]
    },
    {
      "cell_type": "code",
      "execution_count": 31,
      "metadata": {},
      "outputs": [
        {
          "data": {
            "text/plain": [
              "0"
            ]
          },
          "execution_count": 31,
          "metadata": {},
          "output_type": "execute_result"
        }
      ],
      "source": [
        "filtered_df.duplicated().sum()"
      ]
    },
    {
      "cell_type": "markdown",
      "metadata": {},
      "source": [
        "# Save to a new CSV file"
      ]
    },
    {
      "cell_type": "code",
      "execution_count": 32,
      "metadata": {},
      "outputs": [],
      "source": [
        "filtered_df.to_csv('../data/outputs/nba_finals_and_mvp_1980plus.csv', index=False)"
      ]
    },
    {
      "cell_type": "markdown",
      "metadata": {
        "id": "ZY3l0-AxO93d"
      },
      "source": [
        "---"
      ]
    },
    {
      "cell_type": "markdown",
      "metadata": {
        "id": "uFQo3ycuO-v6"
      },
      "source": [
        "# Section 2"
      ]
    },
    {
      "cell_type": "markdown",
      "metadata": {},
      "source": [
        "Section 2 content"
      ]
    },
    {
      "cell_type": "code",
      "execution_count": null,
      "metadata": {},
      "outputs": [],
      "source": []
    },
    {
      "cell_type": "markdown",
      "metadata": {},
      "source": [
        "---"
      ]
    },
    {
      "cell_type": "markdown",
      "metadata": {},
      "source": [
        "NOTE"
      ]
    },
    {
      "cell_type": "markdown",
      "metadata": {},
      "source": [
        "* You may add as many sections as you want, as long as it supports your project workflow.\n",
        "* All notebook's cells should be run top-down (you can't create a dynamic wherein a given point you need to go back to a previous cell to execute some task, like go back to a previous cell and refresh a variable content)"
      ]
    },
    {
      "cell_type": "markdown",
      "metadata": {},
      "source": [
        "---"
      ]
    },
    {
      "cell_type": "markdown",
      "metadata": {
        "id": "ltNetd085qHf"
      },
      "source": [
        "# Push files to Repo"
      ]
    },
    {
      "cell_type": "markdown",
      "metadata": {},
      "source": [
        "* In cases where you don't need to push files to Repo, you may replace this section with \"Conclusions and Next Steps\" and state your conclusions and next steps."
      ]
    },
    {
      "cell_type": "code",
      "execution_count": null,
      "metadata": {
        "id": "aKlnIozA4eQO",
        "outputId": "fd09bc1f-adb1-4511-f6ce-492a6af570c0"
      },
      "outputs": [],
      "source": [
        "import os\n",
        "try:\n",
        "  # create your folder here\n",
        "  # os.makedirs(name='')\n",
        "except Exception as e:\n",
        "  print(e)\n"
      ]
    }
  ],
  "metadata": {
    "accelerator": "GPU",
    "colab": {
      "name": "Data Practitioner Jupyter Notebook.ipynb",
      "provenance": [],
      "toc_visible": true
    },
    "kernelspec": {
      "display_name": ".venv",
      "language": "python",
      "name": "python3"
    },
    "language_info": {
      "codemirror_mode": {
        "name": "ipython",
        "version": 3
      },
      "file_extension": ".py",
      "mimetype": "text/x-python",
      "name": "python",
      "nbconvert_exporter": "python",
      "pygments_lexer": "ipython3",
      "version": "3.12.8"
    },
    "orig_nbformat": 2
  },
  "nbformat": 4,
  "nbformat_minor": 2
}
