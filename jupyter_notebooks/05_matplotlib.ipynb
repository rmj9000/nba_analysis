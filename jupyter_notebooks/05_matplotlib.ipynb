{
  "cells": [
    {
      "cell_type": "markdown",
      "metadata": {
        "id": "0aStgWSO0E0E"
      },
      "source": [
        "# **NBA Anaysis: Visualistions in Matplotlib**"
      ]
    },
    {
      "cell_type": "markdown",
      "metadata": {
        "id": "1eLEkw5O0ECa"
      },
      "source": [
        "## Objectives\n",
        "\n",
        "* Load output data set produced in 03_etl_b.ipynb: nba_finals_and_mvp_1980plus.csv\n",
        "Produce some visualisations with this data.\n",
        "\n",
        "## Inputs\n",
        "\n",
        "* Files used: \n",
        "nba_finals_and_mvp_1980plus.csv\n",
        "\n",
        "\n",
        "## Outputs\n",
        "\n",
        "* File produced:\n",
        "\n",
        "\n",
        "## Additional Comments\n",
        "\n",
        "* This dataset contains essential information about the wins, losses, and MVP awards spanning the long-standing rivalry between the Eastern and Western Conferences in the NBA.  \n",
        "* Note: columns listed in this dataset:\n",
        "\n",
        "Year: The year of the NBA Finals. (Integer)\n",
        "Western Champion: The team that won the Western Conference. (String)\n",
        "Eastern Champion: The team that won the Eastern Conference. (String)\n",
        "Result: The result of the NBA Finals. (String)\n",
        "NBA Champion: The team that won the NBA Finals.(String)\n",
        "NBA Vice-Champion: The team that lost the NBA Finals.(String)\n",
        "Final Sweep ? Whether or not the NBA Finals was a sweep. (Boolean)\n",
        "MVP Name: The name of the MVP. (String)\n",
        "MVP Height (m):\tThe height of the MVP in meters. (Float)\n",
        "MVP Height (ft): The height of the MVP in feet. (Float)\n",
        "MVP Position: The position of the MVP. (String)\n",
        "MVP Team: The team of the MVP. (String)\n",
        "MVP Nationality: The nationality of the MVP. (String)\n",
        "MVP status: The status of the MVP (whether the MVP won the Championship, reached the final or not). (String)\n",
        "First_Name: The first initial of the player in the format first initial followed by \".\" eg. \"M.\" (String)\n",
        "Surname: The surname of the player (String)\n",
        "* Note: data set only has records from 1980 onwards.\n",
        "\n",
        "\n"
      ]
    },
    {
      "cell_type": "markdown",
      "metadata": {
        "id": "9uWZXH9LwoQg"
      },
      "source": [
        "---"
      ]
    },
    {
      "cell_type": "markdown",
      "metadata": {
        "id": "-mavJ8DibrcQ"
      },
      "source": [
        "# Section 1"
      ]
    },
    {
      "cell_type": "markdown",
      "metadata": {},
      "source": [
        "# Import necessary libraries"
      ]
    },
    {
      "cell_type": "code",
      "execution_count": 1,
      "metadata": {},
      "outputs": [],
      "source": [
        "import pandas as pd\n",
        "import numpy as np\n",
        "import matplotlib.pyplot as plt"
      ]
    },
    {
      "cell_type": "markdown",
      "metadata": {},
      "source": [
        "# Load the dataset"
      ]
    },
    {
      "cell_type": "code",
      "execution_count": 2,
      "metadata": {},
      "outputs": [],
      "source": [
        "df = pd.read_csv(\"../data/outputs/nba_finals_and_mvp_1980plus.csv\")"
      ]
    },
    {
      "cell_type": "markdown",
      "metadata": {},
      "source": [
        "# Look at data"
      ]
    },
    {
      "cell_type": "code",
      "execution_count": 3,
      "metadata": {},
      "outputs": [
        {
          "data": {
            "text/html": [
              "<div>\n",
              "<style scoped>\n",
              "    .dataframe tbody tr th:only-of-type {\n",
              "        vertical-align: middle;\n",
              "    }\n",
              "\n",
              "    .dataframe tbody tr th {\n",
              "        vertical-align: top;\n",
              "    }\n",
              "\n",
              "    .dataframe thead th {\n",
              "        text-align: right;\n",
              "    }\n",
              "</style>\n",
              "<table border=\"1\" class=\"dataframe\">\n",
              "  <thead>\n",
              "    <tr style=\"text-align: right;\">\n",
              "      <th></th>\n",
              "      <th>index</th>\n",
              "      <th>Year</th>\n",
              "      <th>Western Champion</th>\n",
              "      <th>Eastern Champion</th>\n",
              "      <th>Result</th>\n",
              "      <th>NBA Champion</th>\n",
              "      <th>NBA Vice-Champion</th>\n",
              "      <th>Final Sweep ?</th>\n",
              "      <th>MVP Name</th>\n",
              "      <th>MVP Height (m)</th>\n",
              "      <th>MVP Height (ft)</th>\n",
              "      <th>MVP Position</th>\n",
              "      <th>MVP Team</th>\n",
              "      <th>MVP Nationality</th>\n",
              "      <th>MVP status</th>\n",
              "      <th>First_Name</th>\n",
              "      <th>Surname</th>\n",
              "    </tr>\n",
              "  </thead>\n",
              "  <tbody>\n",
              "    <tr>\n",
              "      <th>0</th>\n",
              "      <td>30</td>\n",
              "      <td>1980</td>\n",
              "      <td>Los Angeles Lakers</td>\n",
              "      <td>Philadelphia 76ers</td>\n",
              "      <td>4–2</td>\n",
              "      <td>Los Angeles Lakers</td>\n",
              "      <td>Philadelphia 76ers</td>\n",
              "      <td>False</td>\n",
              "      <td>K. Abdul-Jabbar</td>\n",
              "      <td>2.18</td>\n",
              "      <td>7.152231</td>\n",
              "      <td>Center</td>\n",
              "      <td>Los Angeles Lakers</td>\n",
              "      <td>US</td>\n",
              "      <td>Champion</td>\n",
              "      <td>K.</td>\n",
              "      <td>Abdul-Jabbar</td>\n",
              "    </tr>\n",
              "    <tr>\n",
              "      <th>1</th>\n",
              "      <td>31</td>\n",
              "      <td>1981</td>\n",
              "      <td>Houston Rockets</td>\n",
              "      <td>Boston Celtics</td>\n",
              "      <td>2–4</td>\n",
              "      <td>Boston Celtics</td>\n",
              "      <td>Houston Rockets</td>\n",
              "      <td>False</td>\n",
              "      <td>J. Erving</td>\n",
              "      <td>2.01</td>\n",
              "      <td>6.594488</td>\n",
              "      <td>Forward</td>\n",
              "      <td>Philadelphia 76ers</td>\n",
              "      <td>US</td>\n",
              "      <td>Not reached Final</td>\n",
              "      <td>J.</td>\n",
              "      <td>Erving</td>\n",
              "    </tr>\n",
              "    <tr>\n",
              "      <th>2</th>\n",
              "      <td>32</td>\n",
              "      <td>1982</td>\n",
              "      <td>Los Angeles Lakers</td>\n",
              "      <td>Philadelphia 76ers</td>\n",
              "      <td>4–2</td>\n",
              "      <td>Los Angeles Lakers</td>\n",
              "      <td>Philadelphia 76ers</td>\n",
              "      <td>False</td>\n",
              "      <td>M. Malone</td>\n",
              "      <td>2.08</td>\n",
              "      <td>6.824147</td>\n",
              "      <td>Center</td>\n",
              "      <td>Houston Rockets</td>\n",
              "      <td>US</td>\n",
              "      <td>Not reached Final</td>\n",
              "      <td>M.</td>\n",
              "      <td>Malone</td>\n",
              "    </tr>\n",
              "    <tr>\n",
              "      <th>3</th>\n",
              "      <td>33</td>\n",
              "      <td>1983</td>\n",
              "      <td>Los Angeles Lakers</td>\n",
              "      <td>Philadelphia 76ers</td>\n",
              "      <td>0–4</td>\n",
              "      <td>Philadelphia 76ers</td>\n",
              "      <td>Los Angeles Lakers</td>\n",
              "      <td>True</td>\n",
              "      <td>M. Malone</td>\n",
              "      <td>2.08</td>\n",
              "      <td>6.824147</td>\n",
              "      <td>Center</td>\n",
              "      <td>Philadelphia 76ers</td>\n",
              "      <td>US</td>\n",
              "      <td>Champion</td>\n",
              "      <td>M.</td>\n",
              "      <td>Malone</td>\n",
              "    </tr>\n",
              "    <tr>\n",
              "      <th>4</th>\n",
              "      <td>34</td>\n",
              "      <td>1984</td>\n",
              "      <td>Los Angeles Lakers</td>\n",
              "      <td>Boston Celtics</td>\n",
              "      <td>3–4</td>\n",
              "      <td>Boston Celtics</td>\n",
              "      <td>Los Angeles Lakers</td>\n",
              "      <td>False</td>\n",
              "      <td>L. Bird</td>\n",
              "      <td>2.06</td>\n",
              "      <td>6.758530</td>\n",
              "      <td>Forward</td>\n",
              "      <td>Boston Celtics</td>\n",
              "      <td>US</td>\n",
              "      <td>Champion</td>\n",
              "      <td>L.</td>\n",
              "      <td>Bird</td>\n",
              "    </tr>\n",
              "  </tbody>\n",
              "</table>\n",
              "</div>"
            ],
            "text/plain": [
              "   index  Year    Western Champion    Eastern Champion Result  \\\n",
              "0     30  1980  Los Angeles Lakers  Philadelphia 76ers    4–2   \n",
              "1     31  1981     Houston Rockets      Boston Celtics    2–4   \n",
              "2     32  1982  Los Angeles Lakers  Philadelphia 76ers    4–2   \n",
              "3     33  1983  Los Angeles Lakers  Philadelphia 76ers    0–4   \n",
              "4     34  1984  Los Angeles Lakers      Boston Celtics    3–4   \n",
              "\n",
              "         NBA Champion   NBA Vice-Champion  Final Sweep ?         MVP Name  \\\n",
              "0  Los Angeles Lakers  Philadelphia 76ers          False  K. Abdul-Jabbar   \n",
              "1      Boston Celtics     Houston Rockets          False        J. Erving   \n",
              "2  Los Angeles Lakers  Philadelphia 76ers          False        M. Malone   \n",
              "3  Philadelphia 76ers  Los Angeles Lakers           True        M. Malone   \n",
              "4      Boston Celtics  Los Angeles Lakers          False          L. Bird   \n",
              "\n",
              "   MVP Height (m)  MVP Height (ft) MVP Position            MVP Team  \\\n",
              "0            2.18         7.152231       Center  Los Angeles Lakers   \n",
              "1            2.01         6.594488      Forward  Philadelphia 76ers   \n",
              "2            2.08         6.824147       Center     Houston Rockets   \n",
              "3            2.08         6.824147       Center  Philadelphia 76ers   \n",
              "4            2.06         6.758530      Forward      Boston Celtics   \n",
              "\n",
              "  MVP Nationality         MVP status First_Name       Surname  \n",
              "0              US           Champion         K.  Abdul-Jabbar  \n",
              "1              US  Not reached Final         J.        Erving  \n",
              "2              US  Not reached Final         M.        Malone  \n",
              "3              US           Champion         M.        Malone  \n",
              "4              US           Champion         L.          Bird  "
            ]
          },
          "execution_count": 3,
          "metadata": {},
          "output_type": "execute_result"
        }
      ],
      "source": [
        "df.head()\n"
      ]
    },
    {
      "cell_type": "markdown",
      "metadata": {},
      "source": [
        "# Look at shape"
      ]
    },
    {
      "cell_type": "code",
      "execution_count": 4,
      "metadata": {},
      "outputs": [
        {
          "data": {
            "text/plain": [
              "(39, 17)"
            ]
          },
          "execution_count": 4,
          "metadata": {},
          "output_type": "execute_result"
        }
      ],
      "source": [
        "df.shape"
      ]
    },
    {
      "cell_type": "markdown",
      "metadata": {},
      "source": [
        "# Check data types"
      ]
    },
    {
      "cell_type": "code",
      "execution_count": 5,
      "metadata": {},
      "outputs": [
        {
          "name": "stdout",
          "output_type": "stream",
          "text": [
            "<class 'pandas.core.frame.DataFrame'>\n",
            "RangeIndex: 39 entries, 0 to 38\n",
            "Data columns (total 17 columns):\n",
            " #   Column             Non-Null Count  Dtype  \n",
            "---  ------             --------------  -----  \n",
            " 0   index              39 non-null     int64  \n",
            " 1   Year               39 non-null     int64  \n",
            " 2   Western Champion   39 non-null     object \n",
            " 3   Eastern Champion   39 non-null     object \n",
            " 4   Result             39 non-null     object \n",
            " 5   NBA Champion       39 non-null     object \n",
            " 6   NBA Vice-Champion  39 non-null     object \n",
            " 7   Final Sweep ?      39 non-null     bool   \n",
            " 8   MVP Name           39 non-null     object \n",
            " 9   MVP Height (m)     39 non-null     float64\n",
            " 10  MVP Height (ft)    39 non-null     float64\n",
            " 11  MVP Position       39 non-null     object \n",
            " 12  MVP Team           39 non-null     object \n",
            " 13  MVP Nationality    39 non-null     object \n",
            " 14  MVP status         39 non-null     object \n",
            " 15  First_Name         39 non-null     object \n",
            " 16  Surname            39 non-null     object \n",
            "dtypes: bool(1), float64(2), int64(2), object(12)\n",
            "memory usage: 5.0+ KB\n"
          ]
        }
      ],
      "source": [
        "df.info()"
      ]
    },
    {
      "cell_type": "markdown",
      "metadata": {},
      "source": [
        "# Check null values"
      ]
    },
    {
      "cell_type": "code",
      "execution_count": 6,
      "metadata": {},
      "outputs": [
        {
          "data": {
            "text/plain": [
              "index                0\n",
              "Year                 0\n",
              "Western Champion     0\n",
              "Eastern Champion     0\n",
              "Result               0\n",
              "NBA Champion         0\n",
              "NBA Vice-Champion    0\n",
              "Final Sweep ?        0\n",
              "MVP Name             0\n",
              "MVP Height (m)       0\n",
              "MVP Height (ft)      0\n",
              "MVP Position         0\n",
              "MVP Team             0\n",
              "MVP Nationality      0\n",
              "MVP status           0\n",
              "First_Name           0\n",
              "Surname              0\n",
              "dtype: int64"
            ]
          },
          "execution_count": 6,
          "metadata": {},
          "output_type": "execute_result"
        }
      ],
      "source": [
        "df.isnull().sum()"
      ]
    },
    {
      "cell_type": "markdown",
      "metadata": {},
      "source": [
        "# Check for duplicates"
      ]
    },
    {
      "cell_type": "code",
      "execution_count": null,
      "metadata": {},
      "outputs": [
        {
          "data": {
            "text/plain": [
              "0"
            ]
          },
          "execution_count": 21,
          "metadata": {},
          "output_type": "execute_result"
        }
      ],
      "source": [
        "df.duplicated().sum()"
      ]
    },
    {
      "cell_type": "markdown",
      "metadata": {
        "id": "ZY3l0-AxO93d"
      },
      "source": [
        "---"
      ]
    },
    {
      "cell_type": "markdown",
      "metadata": {
        "id": "uFQo3ycuO-v6"
      },
      "source": [
        "# Section 2"
      ]
    },
    {
      "cell_type": "markdown",
      "metadata": {},
      "source": [
        "# A visualisation in Matplolib"
      ]
    },
    {
      "cell_type": "code",
      "execution_count": null,
      "metadata": {},
      "outputs": [],
      "source": []
    },
    {
      "cell_type": "markdown",
      "metadata": {},
      "source": [
        "---"
      ]
    },
    {
      "cell_type": "markdown",
      "metadata": {},
      "source": [
        "NOTE"
      ]
    },
    {
      "cell_type": "markdown",
      "metadata": {},
      "source": [
        "* You may add as many sections as you want, as long as it supports your project workflow.\n",
        "* All notebook's cells should be run top-down (you can't create a dynamic wherein a given point you need to go back to a previous cell to execute some task, like go back to a previous cell and refresh a variable content)"
      ]
    },
    {
      "cell_type": "markdown",
      "metadata": {},
      "source": [
        "---"
      ]
    },
    {
      "cell_type": "markdown",
      "metadata": {
        "id": "ltNetd085qHf"
      },
      "source": [
        "# Push files to Repo"
      ]
    },
    {
      "cell_type": "markdown",
      "metadata": {},
      "source": [
        "* In cases where you don't need to push files to Repo, you may replace this section with \"Conclusions and Next Steps\" and state your conclusions and next steps."
      ]
    },
    {
      "cell_type": "code",
      "execution_count": null,
      "metadata": {
        "id": "aKlnIozA4eQO",
        "outputId": "fd09bc1f-adb1-4511-f6ce-492a6af570c0"
      },
      "outputs": [],
      "source": [
        "import os\n",
        "try:\n",
        "  # create your folder here\n",
        "  # os.makedirs(name='')\n",
        "except Exception as e:\n",
        "  print(e)\n"
      ]
    }
  ],
  "metadata": {
    "accelerator": "GPU",
    "colab": {
      "name": "Data Practitioner Jupyter Notebook.ipynb",
      "provenance": [],
      "toc_visible": true
    },
    "kernelspec": {
      "display_name": ".venv",
      "language": "python",
      "name": "python3"
    },
    "language_info": {
      "codemirror_mode": {
        "name": "ipython",
        "version": 3
      },
      "file_extension": ".py",
      "mimetype": "text/x-python",
      "name": "python",
      "nbconvert_exporter": "python",
      "pygments_lexer": "ipython3",
      "version": "3.12.8"
    },
    "orig_nbformat": 2
  },
  "nbformat": 4,
  "nbformat_minor": 2
}
